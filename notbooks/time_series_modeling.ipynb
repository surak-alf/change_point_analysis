{
  "cells": [
    {
      "cell_type": "code",
      "execution_count": 1,
      "metadata": {
        "id": "Ru2AfjM2J2Dq"
      },
      "outputs": [],
      "source": [
        "import pandas as pd\n",
        "import numpy as np\n",
        "import matplotlib.pyplot as plt\n",
        "import seaborn as sns\n",
        "import statsmodels.api as sm\n",
        "from statsmodels.tsa.api import VAR\n",
        "from hmmlearn.hmm import GaussianHMM\n",
        "from tensorflow.keras.models import Sequential\n",
        "from tensorflow.keras.layers import LSTM, Dense"
      ]
    },
    {
      "cell_type": "code",
      "execution_count": 7,
      "metadata": {
        "colab": {
          "base_uri": "https://localhost:8080/"
        },
        "id": "qGKYWkGjK9GB",
        "outputId": "ddf77f39-160f-4a9d-8abe-fc0cc8ff1be6"
      },
      "outputs": [
        {
          "name": "stderr",
          "output_type": "stream",
          "text": [
            "<>:2: SyntaxWarning: invalid escape sequence '\\d'\n",
            "<>:2: SyntaxWarning: invalid escape sequence '\\d'\n",
            "C:\\Users\\Maintenant prêt\\AppData\\Local\\Temp\\ipykernel_60164\\2819560649.py:2: SyntaxWarning: invalid escape sequence '\\d'\n",
            "  data = pd.read_csv('..\\data\\BrentOilPrices.csv')\n"
          ]
        }
      ],
      "source": [
        "# Prepare multivariate data\n",
        "data = pd.read_csv('..\\data\\BrentOilPrices.csv')"
      ]
    },
    {
      "cell_type": "code",
      "execution_count": 8,
      "metadata": {},
      "outputs": [],
      "source": [
        "data.set_index('Date', inplace=True)"
      ]
    },
    {
      "cell_type": "code",
      "execution_count": 9,
      "metadata": {
        "id": "ajR55Of-LY7K"
      },
      "outputs": [],
      "source": [
        "data['Price_Lagged'] = data['Price'].shift(1)"
      ]
    },
    {
      "cell_type": "code",
      "execution_count": 10,
      "metadata": {
        "colab": {
          "base_uri": "https://localhost:8080/",
          "height": 147
        },
        "id": "DRDOl7mVLQRK",
        "outputId": "b03fc8c9-68c8-4df3-94b1-0cef4ade57a8"
      },
      "outputs": [
        {
          "data": {
            "text/plain": [
              "Price           0\n",
              "Price_Lagged    1\n",
              "dtype: int64"
            ]
          },
          "execution_count": 10,
          "metadata": {},
          "output_type": "execute_result"
        }
      ],
      "source": [
        "data.isna().sum()"
      ]
    },
    {
      "cell_type": "code",
      "execution_count": 11,
      "metadata": {
        "id": "S1mneZIELaYq"
      },
      "outputs": [],
      "source": [
        "data.dropna(inplace=True)"
      ]
    },
    {
      "cell_type": "code",
      "execution_count": 12,
      "metadata": {
        "colab": {
          "base_uri": "https://localhost:8080/",
          "height": 446
        },
        "id": "00HGhTbSL6l5",
        "outputId": "c528e714-d53c-4912-d0df-66b034c22c82"
      },
      "outputs": [
        {
          "name": "stderr",
          "output_type": "stream",
          "text": [
            "c:\\Users\\Maintenant prêt\\Desktop\\PROJECTS\\change_point_analysis\\venv\\Lib\\site-packages\\statsmodels\\tsa\\base\\tsa_model.py:559: UserWarning: Could not infer format, so each element will be parsed individually, falling back to `dateutil`. To ensure parsing is consistent and as-expected, please specify a format.\n",
            "  _index = to_datetime(index)\n",
            "c:\\Users\\Maintenant prêt\\Desktop\\PROJECTS\\change_point_analysis\\venv\\Lib\\site-packages\\statsmodels\\tsa\\base\\tsa_model.py:473: ValueWarning: A date index has been provided, but it has no associated frequency information and so will be ignored when e.g. forecasting.\n",
            "  self._init_dates(dates, freq)\n"
          ]
        },
        {
          "ename": "LinAlgError",
          "evalue": "Singular matrix",
          "output_type": "error",
          "traceback": [
            "\u001b[1;31m---------------------------------------------------------------------------\u001b[0m",
            "\u001b[1;31mLinAlgError\u001b[0m                               Traceback (most recent call last)",
            "Cell \u001b[1;32mIn[12], line 4\u001b[0m\n\u001b[0;32m      2\u001b[0m model \u001b[38;5;241m=\u001b[39m VAR(data[[\u001b[38;5;124m'\u001b[39m\u001b[38;5;124mPrice\u001b[39m\u001b[38;5;124m'\u001b[39m, \u001b[38;5;124m'\u001b[39m\u001b[38;5;124mPrice_Lagged\u001b[39m\u001b[38;5;124m'\u001b[39m]]) \u001b[38;5;66;03m# Include 'Price_Lagged' in the model\u001b[39;00m\n\u001b[0;32m      3\u001b[0m results \u001b[38;5;241m=\u001b[39m model\u001b[38;5;241m.\u001b[39mfit(maxlags\u001b[38;5;241m=\u001b[39m\u001b[38;5;241m5\u001b[39m)  \u001b[38;5;66;03m# Adjust maxlags as needed\u001b[39;00m\n\u001b[1;32m----> 4\u001b[0m \u001b[38;5;28mprint\u001b[39m(\u001b[43mresults\u001b[49m\u001b[38;5;241;43m.\u001b[39;49m\u001b[43msummary\u001b[49m\u001b[43m(\u001b[49m\u001b[43m)\u001b[49m)\n\u001b[0;32m      6\u001b[0m \u001b[38;5;66;03m# Forecast\u001b[39;00m\n\u001b[0;32m      7\u001b[0m forecast \u001b[38;5;241m=\u001b[39m results\u001b[38;5;241m.\u001b[39mforecast(data[[\u001b[38;5;124m'\u001b[39m\u001b[38;5;124mPrice\u001b[39m\u001b[38;5;124m'\u001b[39m, \u001b[38;5;124m'\u001b[39m\u001b[38;5;124mPrice_Lagged\u001b[39m\u001b[38;5;124m'\u001b[39m]]\u001b[38;5;241m.\u001b[39mvalues, steps\u001b[38;5;241m=\u001b[39m\u001b[38;5;241m10\u001b[39m) \u001b[38;5;66;03m# Ensure forecast uses both variables\u001b[39;00m\n",
            "File \u001b[1;32mc:\\Users\\Maintenant prêt\\Desktop\\PROJECTS\\change_point_analysis\\venv\\Lib\\site-packages\\statsmodels\\tsa\\vector_ar\\var_model.py:1849\u001b[0m, in \u001b[0;36mVARResults.summary\u001b[1;34m(self)\u001b[0m\n\u001b[0;32m   1842\u001b[0m \u001b[38;5;28;01mdef\u001b[39;00m\u001b[38;5;250m \u001b[39m\u001b[38;5;21msummary\u001b[39m(\u001b[38;5;28mself\u001b[39m):\n\u001b[0;32m   1843\u001b[0m \u001b[38;5;250m    \u001b[39m\u001b[38;5;124;03m\"\"\"Compute console output summary of estimates\u001b[39;00m\n\u001b[0;32m   1844\u001b[0m \n\u001b[0;32m   1845\u001b[0m \u001b[38;5;124;03m    Returns\u001b[39;00m\n\u001b[0;32m   1846\u001b[0m \u001b[38;5;124;03m    -------\u001b[39;00m\n\u001b[0;32m   1847\u001b[0m \u001b[38;5;124;03m    summary : VARSummary\u001b[39;00m\n\u001b[0;32m   1848\u001b[0m \u001b[38;5;124;03m    \"\"\"\u001b[39;00m\n\u001b[1;32m-> 1849\u001b[0m     \u001b[38;5;28;01mreturn\u001b[39;00m \u001b[43mVARSummary\u001b[49m\u001b[43m(\u001b[49m\u001b[38;5;28;43mself\u001b[39;49m\u001b[43m)\u001b[49m\n",
            "File \u001b[1;32mc:\\Users\\Maintenant prêt\\Desktop\\PROJECTS\\change_point_analysis\\venv\\Lib\\site-packages\\statsmodels\\tsa\\vector_ar\\output.py:71\u001b[0m, in \u001b[0;36mVARSummary.__init__\u001b[1;34m(self, estimator)\u001b[0m\n\u001b[0;32m     69\u001b[0m \u001b[38;5;28;01mdef\u001b[39;00m\u001b[38;5;250m \u001b[39m\u001b[38;5;21m__init__\u001b[39m(\u001b[38;5;28mself\u001b[39m, estimator):\n\u001b[0;32m     70\u001b[0m     \u001b[38;5;28mself\u001b[39m\u001b[38;5;241m.\u001b[39mmodel \u001b[38;5;241m=\u001b[39m estimator\n\u001b[1;32m---> 71\u001b[0m     \u001b[38;5;28mself\u001b[39m\u001b[38;5;241m.\u001b[39msummary \u001b[38;5;241m=\u001b[39m \u001b[38;5;28;43mself\u001b[39;49m\u001b[38;5;241;43m.\u001b[39;49m\u001b[43mmake\u001b[49m\u001b[43m(\u001b[49m\u001b[43m)\u001b[49m\n",
            "File \u001b[1;32mc:\\Users\\Maintenant prêt\\Desktop\\PROJECTS\\change_point_analysis\\venv\\Lib\\site-packages\\statsmodels\\tsa\\vector_ar\\output.py:84\u001b[0m, in \u001b[0;36mVARSummary.make\u001b[1;34m(self, endog_names, exog_names)\u001b[0m\n\u001b[0;32m     82\u001b[0m buf\u001b[38;5;241m.\u001b[39mwrite(\u001b[38;5;28mself\u001b[39m\u001b[38;5;241m.\u001b[39m_header_table() \u001b[38;5;241m+\u001b[39m \u001b[38;5;124m'\u001b[39m\u001b[38;5;130;01m\\n\u001b[39;00m\u001b[38;5;124m'\u001b[39m)\n\u001b[0;32m     83\u001b[0m buf\u001b[38;5;241m.\u001b[39mwrite(\u001b[38;5;28mself\u001b[39m\u001b[38;5;241m.\u001b[39m_stats_table() \u001b[38;5;241m+\u001b[39m \u001b[38;5;124m'\u001b[39m\u001b[38;5;130;01m\\n\u001b[39;00m\u001b[38;5;124m'\u001b[39m)\n\u001b[1;32m---> 84\u001b[0m buf\u001b[38;5;241m.\u001b[39mwrite(\u001b[38;5;28;43mself\u001b[39;49m\u001b[38;5;241;43m.\u001b[39;49m\u001b[43m_coef_table\u001b[49m\u001b[43m(\u001b[49m\u001b[43m)\u001b[49m \u001b[38;5;241m+\u001b[39m \u001b[38;5;124m'\u001b[39m\u001b[38;5;130;01m\\n\u001b[39;00m\u001b[38;5;124m'\u001b[39m)\n\u001b[0;32m     85\u001b[0m buf\u001b[38;5;241m.\u001b[39mwrite(\u001b[38;5;28mself\u001b[39m\u001b[38;5;241m.\u001b[39m_resid_info() \u001b[38;5;241m+\u001b[39m \u001b[38;5;124m'\u001b[39m\u001b[38;5;130;01m\\n\u001b[39;00m\u001b[38;5;124m'\u001b[39m)\n\u001b[0;32m     87\u001b[0m \u001b[38;5;28;01mreturn\u001b[39;00m buf\u001b[38;5;241m.\u001b[39mgetvalue()\n",
            "File \u001b[1;32mc:\\Users\\Maintenant prêt\\Desktop\\PROJECTS\\change_point_analysis\\venv\\Lib\\site-packages\\statsmodels\\tsa\\vector_ar\\output.py:148\u001b[0m, in \u001b[0;36mVARSummary._coef_table\u001b[1;34m(self)\u001b[0m\n\u001b[0;32m    143\u001b[0m k \u001b[38;5;241m=\u001b[39m model\u001b[38;5;241m.\u001b[39mneqs\n\u001b[0;32m    145\u001b[0m Xnames \u001b[38;5;241m=\u001b[39m \u001b[38;5;28mself\u001b[39m\u001b[38;5;241m.\u001b[39mmodel\u001b[38;5;241m.\u001b[39mexog_names\n\u001b[0;32m    147\u001b[0m data \u001b[38;5;241m=\u001b[39m lzip(model\u001b[38;5;241m.\u001b[39mparams\u001b[38;5;241m.\u001b[39mT\u001b[38;5;241m.\u001b[39mravel(),\n\u001b[1;32m--> 148\u001b[0m             \u001b[43mmodel\u001b[49m\u001b[38;5;241;43m.\u001b[39;49m\u001b[43mstderr\u001b[49m\u001b[38;5;241m.\u001b[39mT\u001b[38;5;241m.\u001b[39mravel(),\n\u001b[0;32m    149\u001b[0m             model\u001b[38;5;241m.\u001b[39mtvalues\u001b[38;5;241m.\u001b[39mT\u001b[38;5;241m.\u001b[39mravel(),\n\u001b[0;32m    150\u001b[0m             model\u001b[38;5;241m.\u001b[39mpvalues\u001b[38;5;241m.\u001b[39mT\u001b[38;5;241m.\u001b[39mravel())\n\u001b[0;32m    152\u001b[0m header \u001b[38;5;241m=\u001b[39m (\u001b[38;5;124m'\u001b[39m\u001b[38;5;124mcoefficient\u001b[39m\u001b[38;5;124m'\u001b[39m,\u001b[38;5;124m'\u001b[39m\u001b[38;5;124mstd. error\u001b[39m\u001b[38;5;124m'\u001b[39m,\u001b[38;5;124m'\u001b[39m\u001b[38;5;124mt-stat\u001b[39m\u001b[38;5;124m'\u001b[39m,\u001b[38;5;124m'\u001b[39m\u001b[38;5;124mprob\u001b[39m\u001b[38;5;124m'\u001b[39m)\n\u001b[0;32m    154\u001b[0m buf \u001b[38;5;241m=\u001b[39m StringIO()\n",
            "File \u001b[1;32mproperties.pyx:36\u001b[0m, in \u001b[0;36mpandas._libs.properties.CachedProperty.__get__\u001b[1;34m()\u001b[0m\n",
            "File \u001b[1;32mc:\\Users\\Maintenant prêt\\Desktop\\PROJECTS\\change_point_analysis\\venv\\Lib\\site-packages\\statsmodels\\tsa\\vector_ar\\var_model.py:1558\u001b[0m, in \u001b[0;36mVARResults.stderr\u001b[1;34m(self)\u001b[0m\n\u001b[0;32m   1555\u001b[0m \u001b[38;5;129m@cache_readonly\u001b[39m\n\u001b[0;32m   1556\u001b[0m \u001b[38;5;28;01mdef\u001b[39;00m\u001b[38;5;250m \u001b[39m\u001b[38;5;21mstderr\u001b[39m(\u001b[38;5;28mself\u001b[39m):\n\u001b[0;32m   1557\u001b[0m \u001b[38;5;250m    \u001b[39m\u001b[38;5;124;03m\"\"\"Standard errors of coefficients, reshaped to match in size\"\"\"\u001b[39;00m\n\u001b[1;32m-> 1558\u001b[0m     stderr \u001b[38;5;241m=\u001b[39m np\u001b[38;5;241m.\u001b[39msqrt(np\u001b[38;5;241m.\u001b[39mdiag(\u001b[38;5;28;43mself\u001b[39;49m\u001b[38;5;241;43m.\u001b[39;49m\u001b[43mcov_params\u001b[49m\u001b[43m(\u001b[49m\u001b[43m)\u001b[49m))\n\u001b[0;32m   1559\u001b[0m     \u001b[38;5;28;01mreturn\u001b[39;00m stderr\u001b[38;5;241m.\u001b[39mreshape((\u001b[38;5;28mself\u001b[39m\u001b[38;5;241m.\u001b[39mdf_model, \u001b[38;5;28mself\u001b[39m\u001b[38;5;241m.\u001b[39mneqs), order\u001b[38;5;241m=\u001b[39m\u001b[38;5;124m\"\u001b[39m\u001b[38;5;124mC\u001b[39m\u001b[38;5;124m\"\u001b[39m)\n",
            "File \u001b[1;32mc:\\Users\\Maintenant prêt\\Desktop\\PROJECTS\\change_point_analysis\\venv\\Lib\\site-packages\\statsmodels\\tsa\\vector_ar\\var_model.py:1501\u001b[0m, in \u001b[0;36mVARResults.cov_params\u001b[1;34m(self)\u001b[0m\n\u001b[0;32m   1490\u001b[0m \u001b[38;5;250m\u001b[39m\u001b[38;5;124;03m\"\"\"Estimated variance-covariance of model coefficients\u001b[39;00m\n\u001b[0;32m   1491\u001b[0m \n\u001b[0;32m   1492\u001b[0m \u001b[38;5;124;03mNotes\u001b[39;00m\n\u001b[1;32m   (...)\u001b[0m\n\u001b[0;32m   1498\u001b[0m \u001b[38;5;124;03mRef: Lütkepohl p.74-75\u001b[39;00m\n\u001b[0;32m   1499\u001b[0m \u001b[38;5;124;03m\"\"\"\u001b[39;00m\n\u001b[0;32m   1500\u001b[0m z \u001b[38;5;241m=\u001b[39m \u001b[38;5;28mself\u001b[39m\u001b[38;5;241m.\u001b[39mendog_lagged\n\u001b[1;32m-> 1501\u001b[0m \u001b[38;5;28;01mreturn\u001b[39;00m np\u001b[38;5;241m.\u001b[39mkron(\u001b[43mnp\u001b[49m\u001b[38;5;241;43m.\u001b[39;49m\u001b[43mlinalg\u001b[49m\u001b[38;5;241;43m.\u001b[39;49m\u001b[43minv\u001b[49m\u001b[43m(\u001b[49m\u001b[43mz\u001b[49m\u001b[38;5;241;43m.\u001b[39;49m\u001b[43mT\u001b[49m\u001b[43m \u001b[49m\u001b[38;5;241;43m@\u001b[39;49m\u001b[43m \u001b[49m\u001b[43mz\u001b[49m\u001b[43m)\u001b[49m, \u001b[38;5;28mself\u001b[39m\u001b[38;5;241m.\u001b[39msigma_u)\n",
            "File \u001b[1;32mc:\\Users\\Maintenant prêt\\Desktop\\PROJECTS\\change_point_analysis\\venv\\Lib\\site-packages\\numpy\\linalg\\_linalg.py:608\u001b[0m, in \u001b[0;36minv\u001b[1;34m(a)\u001b[0m\n\u001b[0;32m    605\u001b[0m signature \u001b[38;5;241m=\u001b[39m \u001b[38;5;124m'\u001b[39m\u001b[38;5;124mD->D\u001b[39m\u001b[38;5;124m'\u001b[39m \u001b[38;5;28;01mif\u001b[39;00m isComplexType(t) \u001b[38;5;28;01melse\u001b[39;00m \u001b[38;5;124m'\u001b[39m\u001b[38;5;124md->d\u001b[39m\u001b[38;5;124m'\u001b[39m\n\u001b[0;32m    606\u001b[0m \u001b[38;5;28;01mwith\u001b[39;00m errstate(call\u001b[38;5;241m=\u001b[39m_raise_linalgerror_singular, invalid\u001b[38;5;241m=\u001b[39m\u001b[38;5;124m'\u001b[39m\u001b[38;5;124mcall\u001b[39m\u001b[38;5;124m'\u001b[39m,\n\u001b[0;32m    607\u001b[0m               over\u001b[38;5;241m=\u001b[39m\u001b[38;5;124m'\u001b[39m\u001b[38;5;124mignore\u001b[39m\u001b[38;5;124m'\u001b[39m, divide\u001b[38;5;241m=\u001b[39m\u001b[38;5;124m'\u001b[39m\u001b[38;5;124mignore\u001b[39m\u001b[38;5;124m'\u001b[39m, under\u001b[38;5;241m=\u001b[39m\u001b[38;5;124m'\u001b[39m\u001b[38;5;124mignore\u001b[39m\u001b[38;5;124m'\u001b[39m):\n\u001b[1;32m--> 608\u001b[0m     ainv \u001b[38;5;241m=\u001b[39m \u001b[43m_umath_linalg\u001b[49m\u001b[38;5;241;43m.\u001b[39;49m\u001b[43minv\u001b[49m\u001b[43m(\u001b[49m\u001b[43ma\u001b[49m\u001b[43m,\u001b[49m\u001b[43m \u001b[49m\u001b[43msignature\u001b[49m\u001b[38;5;241;43m=\u001b[39;49m\u001b[43msignature\u001b[49m\u001b[43m)\u001b[49m\n\u001b[0;32m    609\u001b[0m \u001b[38;5;28;01mreturn\u001b[39;00m wrap(ainv\u001b[38;5;241m.\u001b[39mastype(result_t, copy\u001b[38;5;241m=\u001b[39m\u001b[38;5;28;01mFalse\u001b[39;00m))\n",
            "File \u001b[1;32mc:\\Users\\Maintenant prêt\\Desktop\\PROJECTS\\change_point_analysis\\venv\\Lib\\site-packages\\numpy\\linalg\\_linalg.py:104\u001b[0m, in \u001b[0;36m_raise_linalgerror_singular\u001b[1;34m(err, flag)\u001b[0m\n\u001b[0;32m    103\u001b[0m \u001b[38;5;28;01mdef\u001b[39;00m\u001b[38;5;250m \u001b[39m\u001b[38;5;21m_raise_linalgerror_singular\u001b[39m(err, flag):\n\u001b[1;32m--> 104\u001b[0m     \u001b[38;5;28;01mraise\u001b[39;00m LinAlgError(\u001b[38;5;124m\"\u001b[39m\u001b[38;5;124mSingular matrix\u001b[39m\u001b[38;5;124m\"\u001b[39m)\n",
            "\u001b[1;31mLinAlgError\u001b[0m: Singular matrix"
          ]
        }
      ],
      "source": [
        "# Fit VAR model\n",
        "model = VAR(data[['Price', 'Price_Lagged']]) # Include 'Price_Lagged' in the model\n",
        "results = model.fit(maxlags=5)  # Adjust maxlags as needed\n",
        "print(results.summary())\n",
        "\n",
        "# Forecast\n",
        "forecast = results.forecast(data[['Price', 'Price_Lagged']].values, steps=10) # Ensure forecast uses both variables\n",
        "print(forecast)"
      ]
    },
    {
      "cell_type": "markdown",
      "metadata": {
        "id": "qIEGSnv9KUmZ"
      },
      "source": [
        "# VAR Model"
      ]
    },
    {
      "cell_type": "code",
      "execution_count": 13,
      "metadata": {
        "colab": {
          "base_uri": "https://localhost:8080/",
          "height": 387
        },
        "id": "DHzkpcnlKAwi",
        "outputId": "50f52971-b332-43eb-f377-ad337ad9e179"
      },
      "outputs": [
        {
          "name": "stderr",
          "output_type": "stream",
          "text": [
            "c:\\Users\\Maintenant prêt\\Desktop\\PROJECTS\\change_point_analysis\\venv\\Lib\\site-packages\\statsmodels\\tsa\\base\\tsa_model.py:559: UserWarning: Could not infer format, so each element will be parsed individually, falling back to `dateutil`. To ensure parsing is consistent and as-expected, please specify a format.\n",
            "  _index = to_datetime(index)\n",
            "c:\\Users\\Maintenant prêt\\Desktop\\PROJECTS\\change_point_analysis\\venv\\Lib\\site-packages\\statsmodels\\tsa\\base\\tsa_model.py:473: ValueWarning: A date index has been provided, but it has no associated frequency information and so will be ignored when e.g. forecasting.\n",
            "  self._init_dates(dates, freq)\n"
          ]
        },
        {
          "ename": "ValueError",
          "evalue": "Only gave one variable to VAR",
          "output_type": "error",
          "traceback": [
            "\u001b[1;31m---------------------------------------------------------------------------\u001b[0m",
            "\u001b[1;31mValueError\u001b[0m                                Traceback (most recent call last)",
            "Cell \u001b[1;32mIn[13], line 2\u001b[0m\n\u001b[0;32m      1\u001b[0m \u001b[38;5;66;03m# Fit VAR model\u001b[39;00m\n\u001b[1;32m----> 2\u001b[0m model \u001b[38;5;241m=\u001b[39m \u001b[43mVAR\u001b[49m\u001b[43m(\u001b[49m\u001b[43mdata\u001b[49m\u001b[43m[\u001b[49m\u001b[43m[\u001b[49m\u001b[38;5;124;43m'\u001b[39;49m\u001b[38;5;124;43mPrice\u001b[39;49m\u001b[38;5;124;43m'\u001b[39;49m\u001b[43m]\u001b[49m\u001b[43m]\u001b[49m\u001b[43m)\u001b[49m\n\u001b[0;32m      3\u001b[0m results \u001b[38;5;241m=\u001b[39m model\u001b[38;5;241m.\u001b[39mfit(maxlags\u001b[38;5;241m=\u001b[39m\u001b[38;5;241m5\u001b[39m)  \u001b[38;5;66;03m# Adjust maxlags as needed\u001b[39;00m\n\u001b[0;32m      4\u001b[0m \u001b[38;5;28mprint\u001b[39m(results\u001b[38;5;241m.\u001b[39msummary())\n",
            "File \u001b[1;32mc:\\Users\\Maintenant prêt\\Desktop\\PROJECTS\\change_point_analysis\\venv\\Lib\\site-packages\\statsmodels\\tsa\\vector_ar\\var_model.py:552\u001b[0m, in \u001b[0;36mVAR.__init__\u001b[1;34m(self, endog, exog, dates, freq, missing)\u001b[0m\n\u001b[0;32m    550\u001b[0m \u001b[38;5;28msuper\u001b[39m()\u001b[38;5;241m.\u001b[39m\u001b[38;5;21m__init__\u001b[39m(endog, exog, dates, freq, missing\u001b[38;5;241m=\u001b[39mmissing)\n\u001b[0;32m    551\u001b[0m \u001b[38;5;28;01mif\u001b[39;00m \u001b[38;5;28mself\u001b[39m\u001b[38;5;241m.\u001b[39mendog\u001b[38;5;241m.\u001b[39mndim \u001b[38;5;241m==\u001b[39m \u001b[38;5;241m1\u001b[39m:\n\u001b[1;32m--> 552\u001b[0m     \u001b[38;5;28;01mraise\u001b[39;00m \u001b[38;5;167;01mValueError\u001b[39;00m(\u001b[38;5;124m\"\u001b[39m\u001b[38;5;124mOnly gave one variable to VAR\u001b[39m\u001b[38;5;124m\"\u001b[39m)\n\u001b[0;32m    553\u001b[0m \u001b[38;5;28mself\u001b[39m\u001b[38;5;241m.\u001b[39mneqs \u001b[38;5;241m=\u001b[39m \u001b[38;5;28mself\u001b[39m\u001b[38;5;241m.\u001b[39mendog\u001b[38;5;241m.\u001b[39mshape[\u001b[38;5;241m1\u001b[39m]\n\u001b[0;32m    554\u001b[0m \u001b[38;5;28mself\u001b[39m\u001b[38;5;241m.\u001b[39mn_totobs \u001b[38;5;241m=\u001b[39m \u001b[38;5;28mlen\u001b[39m(endog)\n",
            "\u001b[1;31mValueError\u001b[0m: Only gave one variable to VAR"
          ]
        }
      ],
      "source": [
        "# Fit VAR model\n",
        "model = VAR(data[['Price']])\n",
        "results = model.fit(maxlags=5)  # Adjust maxlags as needed\n",
        "print(results.summary())\n",
        "\n",
        "# Forecast\n",
        "forecast = results.forecast(data.values, steps=10)\n",
        "print(forecast)"
      ]
    },
    {
      "cell_type": "code",
      "execution_count": null,
      "metadata": {
        "id": "uEYkoUi_KAt4"
      },
      "outputs": [],
      "source": []
    },
    {
      "cell_type": "markdown",
      "metadata": {
        "id": "7MEsCbuvKMiw"
      },
      "source": [
        "# Markov-Switching ARIMA"
      ]
    },
    {
      "cell_type": "code",
      "execution_count": 14,
      "metadata": {
        "colab": {
          "base_uri": "https://localhost:8080/"
        },
        "id": "YAVJB0orKArh",
        "outputId": "6a82381e-5ef1-4715-de8d-44d4bbe8c8ac"
      },
      "outputs": [
        {
          "name": "stdout",
          "output_type": "stream",
          "text": [
            "[0 0 0 ... 1 1 1]\n"
          ]
        }
      ],
      "source": [
        "# Prepare data\n",
        "prices = data['Price'].values.reshape(-1, 1)\n",
        "\n",
        "# Fit HMM model\n",
        "model = GaussianHMM(n_components=2, covariance_type=\"diag\", n_iter=1000)\n",
        "model.fit(prices)\n",
        "\n",
        "# Predict states\n",
        "hidden_states = model.predict(prices)\n",
        "print(hidden_states)"
      ]
    },
    {
      "cell_type": "markdown",
      "metadata": {
        "id": "VOWr_e2gKiPh"
      },
      "source": [
        "# LSTM Model"
      ]
    },
    {
      "cell_type": "code",
      "execution_count": 18,
      "metadata": {
        "colab": {
          "base_uri": "https://localhost:8080/"
        },
        "id": "6dFrl9OiKAox",
        "outputId": "ab0851b7-11b0-4d92-e225-14be2355285f"
      },
      "outputs": [
        {
          "name": "stdout",
          "output_type": "stream",
          "text": [
            "Epoch 1/100\n"
          ]
        },
        {
          "name": "stderr",
          "output_type": "stream",
          "text": [
            "/usr/local/lib/python3.11/dist-packages/keras/src/layers/rnn/rnn.py:200: UserWarning: Do not pass an `input_shape`/`input_dim` argument to a layer. When using Sequential models, prefer using an `Input(shape)` object as the first layer in the model instead.\n",
            "  super().__init__(**kwargs)\n"
          ]
        },
        {
          "name": "stdout",
          "output_type": "stream",
          "text": [
            "281/281 - 4s - 16ms/step - loss: 2515.8611\n",
            "Epoch 2/100\n",
            "281/281 - 4s - 14ms/step - loss: 1487.9716\n",
            "Epoch 3/100\n",
            "281/281 - 2s - 6ms/step - loss: 1004.9388\n",
            "Epoch 4/100\n",
            "281/281 - 2s - 7ms/step - loss: 691.8967\n",
            "Epoch 5/100\n",
            "281/281 - 3s - 9ms/step - loss: 485.0224\n",
            "Epoch 6/100\n",
            "281/281 - 2s - 8ms/step - loss: 345.7172\n",
            "Epoch 7/100\n",
            "281/281 - 2s - 9ms/step - loss: 249.8515\n",
            "Epoch 8/100\n",
            "281/281 - 2s - 8ms/step - loss: 181.4494\n",
            "Epoch 9/100\n",
            "281/281 - 3s - 11ms/step - loss: 130.8536\n",
            "Epoch 10/100\n",
            "281/281 - 2s - 7ms/step - loss: 92.9088\n",
            "Epoch 11/100\n",
            "281/281 - 3s - 9ms/step - loss: 64.9568\n",
            "Epoch 12/100\n",
            "281/281 - 3s - 9ms/step - loss: 45.0454\n",
            "Epoch 13/100\n",
            "281/281 - 2s - 7ms/step - loss: 31.0039\n",
            "Epoch 14/100\n",
            "281/281 - 2s - 8ms/step - loss: 21.5134\n",
            "Epoch 15/100\n",
            "281/281 - 2s - 7ms/step - loss: 15.3667\n",
            "Epoch 16/100\n",
            "281/281 - 2s - 9ms/step - loss: 11.4741\n",
            "Epoch 17/100\n",
            "281/281 - 3s - 9ms/step - loss: 8.8331\n",
            "Epoch 18/100\n",
            "281/281 - 3s - 9ms/step - loss: 7.2174\n",
            "Epoch 19/100\n",
            "281/281 - 3s - 12ms/step - loss: 6.0363\n",
            "Epoch 20/100\n",
            "281/281 - 2s - 7ms/step - loss: 5.1149\n",
            "Epoch 21/100\n",
            "281/281 - 2s - 7ms/step - loss: 4.4939\n",
            "Epoch 22/100\n",
            "281/281 - 2s - 6ms/step - loss: 3.9243\n",
            "Epoch 23/100\n",
            "281/281 - 2s - 7ms/step - loss: 3.5151\n",
            "Epoch 24/100\n",
            "281/281 - 3s - 11ms/step - loss: 3.1621\n",
            "Epoch 25/100\n",
            "281/281 - 2s - 7ms/step - loss: 2.9673\n",
            "Epoch 26/100\n",
            "281/281 - 3s - 9ms/step - loss: 2.7235\n",
            "Epoch 27/100\n",
            "281/281 - 2s - 7ms/step - loss: 2.5436\n",
            "Epoch 28/100\n",
            "281/281 - 2s - 7ms/step - loss: 2.9870\n",
            "Epoch 29/100\n",
            "281/281 - 3s - 10ms/step - loss: 2.7598\n",
            "Epoch 30/100\n",
            "281/281 - 2s - 7ms/step - loss: 2.5808\n",
            "Epoch 31/100\n",
            "281/281 - 2s - 7ms/step - loss: 2.4191\n",
            "Epoch 32/100\n",
            "281/281 - 3s - 9ms/step - loss: 2.1524\n",
            "Epoch 33/100\n",
            "281/281 - 2s - 7ms/step - loss: 2.3894\n",
            "Epoch 34/100\n",
            "281/281 - 2s - 7ms/step - loss: 2.3134\n",
            "Epoch 35/100\n",
            "281/281 - 2s - 9ms/step - loss: 1.9788\n",
            "Epoch 36/100\n",
            "281/281 - 2s - 7ms/step - loss: 1.9267\n",
            "Epoch 37/100\n",
            "281/281 - 3s - 9ms/step - loss: 1.9080\n",
            "Epoch 38/100\n",
            "281/281 - 3s - 9ms/step - loss: 1.8160\n",
            "Epoch 39/100\n",
            "281/281 - 3s - 11ms/step - loss: 1.8045\n",
            "Epoch 40/100\n",
            "281/281 - 2s - 7ms/step - loss: 1.7434\n",
            "Epoch 41/100\n",
            "281/281 - 2s - 7ms/step - loss: 1.7587\n",
            "Epoch 42/100\n",
            "281/281 - 2s - 7ms/step - loss: 1.7767\n",
            "Epoch 43/100\n",
            "281/281 - 2s - 7ms/step - loss: 1.7924\n",
            "Epoch 44/100\n",
            "281/281 - 2s - 7ms/step - loss: 1.7412\n",
            "Epoch 45/100\n",
            "281/281 - 3s - 10ms/step - loss: 1.7422\n",
            "Epoch 46/100\n",
            "281/281 - 2s - 8ms/step - loss: 1.8083\n",
            "Epoch 47/100\n",
            "281/281 - 3s - 9ms/step - loss: 1.7068\n",
            "Epoch 48/100\n",
            "281/281 - 2s - 6ms/step - loss: 1.8148\n",
            "Epoch 49/100\n",
            "281/281 - 3s - 10ms/step - loss: 1.7773\n",
            "Epoch 50/100\n",
            "281/281 - 2s - 8ms/step - loss: 1.7099\n",
            "Epoch 51/100\n",
            "281/281 - 2s - 7ms/step - loss: 1.6977\n",
            "Epoch 52/100\n",
            "281/281 - 2s - 7ms/step - loss: 1.6946\n",
            "Epoch 53/100\n",
            "281/281 - 3s - 9ms/step - loss: 1.6742\n",
            "Epoch 54/100\n",
            "281/281 - 2s - 7ms/step - loss: 1.7588\n",
            "Epoch 55/100\n",
            "281/281 - 3s - 9ms/step - loss: 1.6498\n",
            "Epoch 56/100\n",
            "281/281 - 2s - 7ms/step - loss: 2.0490\n",
            "Epoch 57/100\n",
            "281/281 - 2s - 6ms/step - loss: 2.1755\n",
            "Epoch 58/100\n",
            "281/281 - 2s - 7ms/step - loss: 1.8465\n",
            "Epoch 59/100\n",
            "281/281 - 3s - 9ms/step - loss: 1.7438\n",
            "Epoch 60/100\n",
            "281/281 - 2s - 8ms/step - loss: 1.8049\n",
            "Epoch 61/100\n",
            "281/281 - 2s - 8ms/step - loss: 1.7465\n",
            "Epoch 62/100\n",
            "281/281 - 3s - 9ms/step - loss: 1.7942\n",
            "Epoch 63/100\n",
            "281/281 - 2s - 6ms/step - loss: 1.7411\n",
            "Epoch 64/100\n",
            "281/281 - 3s - 9ms/step - loss: 1.7962\n",
            "Epoch 65/100\n",
            "281/281 - 2s - 8ms/step - loss: 1.8295\n",
            "Epoch 66/100\n",
            "281/281 - 2s - 7ms/step - loss: 1.7462\n",
            "Epoch 67/100\n",
            "281/281 - 2s - 6ms/step - loss: 1.7550\n",
            "Epoch 68/100\n",
            "281/281 - 3s - 9ms/step - loss: 1.8401\n",
            "Epoch 69/100\n",
            "281/281 - 3s - 9ms/step - loss: 1.8751\n",
            "Epoch 70/100\n",
            "281/281 - 2s - 8ms/step - loss: 1.7740\n",
            "Epoch 71/100\n",
            "281/281 - 2s - 8ms/step - loss: 1.7450\n",
            "Epoch 72/100\n",
            "281/281 - 2s - 6ms/step - loss: 1.7510\n",
            "Epoch 73/100\n",
            "281/281 - 3s - 9ms/step - loss: 1.7098\n",
            "Epoch 74/100\n",
            "281/281 - 2s - 6ms/step - loss: 1.6792\n",
            "Epoch 75/100\n",
            "281/281 - 3s - 11ms/step - loss: 1.7716\n",
            "Epoch 76/100\n",
            "281/281 - 2s - 7ms/step - loss: 1.8112\n",
            "Epoch 77/100\n",
            "281/281 - 3s - 9ms/step - loss: 2.0453\n",
            "Epoch 78/100\n",
            "281/281 - 3s - 9ms/step - loss: 1.9941\n",
            "Epoch 79/100\n",
            "281/281 - 3s - 9ms/step - loss: 1.8953\n",
            "Epoch 80/100\n",
            "281/281 - 3s - 10ms/step - loss: 1.8558\n",
            "Epoch 81/100\n",
            "281/281 - 2s - 7ms/step - loss: 1.6531\n",
            "Epoch 82/100\n",
            "281/281 - 2s - 7ms/step - loss: 1.7019\n",
            "Epoch 83/100\n",
            "281/281 - 3s - 9ms/step - loss: 1.8106\n",
            "Epoch 84/100\n",
            "281/281 - 2s - 6ms/step - loss: 1.7676\n",
            "Epoch 85/100\n",
            "281/281 - 3s - 10ms/step - loss: 1.7417\n",
            "Epoch 86/100\n",
            "281/281 - 2s - 7ms/step - loss: 1.7463\n",
            "Epoch 87/100\n",
            "281/281 - 3s - 9ms/step - loss: 1.7394\n",
            "Epoch 88/100\n",
            "281/281 - 2s - 6ms/step - loss: 1.7052\n",
            "Epoch 89/100\n",
            "281/281 - 2s - 6ms/step - loss: 1.7735\n",
            "Epoch 90/100\n",
            "281/281 - 2s - 8ms/step - loss: 1.7407\n",
            "Epoch 91/100\n",
            "281/281 - 2s - 8ms/step - loss: 1.6948\n",
            "Epoch 92/100\n",
            "281/281 - 3s - 9ms/step - loss: 1.7137\n",
            "Epoch 93/100\n",
            "281/281 - 3s - 9ms/step - loss: 1.9349\n",
            "Epoch 94/100\n",
            "281/281 - 2s - 7ms/step - loss: 1.9865\n",
            "Epoch 95/100\n",
            "281/281 - 3s - 11ms/step - loss: 1.8159\n",
            "Epoch 96/100\n",
            "281/281 - 2s - 8ms/step - loss: 1.8469\n",
            "Epoch 97/100\n",
            "281/281 - 2s - 6ms/step - loss: 1.6672\n",
            "Epoch 98/100\n",
            "281/281 - 2s - 7ms/step - loss: 1.7586\n",
            "Epoch 99/100\n",
            "281/281 - 3s - 12ms/step - loss: 1.7647\n",
            "Epoch 100/100\n",
            "281/281 - 2s - 8ms/step - loss: 1.7170\n"
          ]
        },
        {
          "data": {
            "text/plain": [
              "<keras.src.callbacks.history.History at 0x7dcdadc3d490>"
            ]
          },
          "execution_count": 18,
          "metadata": {},
          "output_type": "execute_result"
        }
      ],
      "source": [
        "# Prepare data for LSTM\n",
        "def create_dataset(data, look_back=1):\n",
        "    X, y = [], []\n",
        "    for i in range(len(data) - look_back):\n",
        "        X.append(data[i:(i + look_back), 0])\n",
        "        y.append(data[i + look_back, 0])\n",
        "    return np.array(X), np.array(y)\n",
        "\n",
        "look_back = 30\n",
        "X, y = create_dataset(prices, look_back)\n",
        "\n",
        "# Reshape input to be [samples, time steps, features]\n",
        "X = np.reshape(X, (X.shape[0], X.shape[1], 1))\n",
        "\n",
        "# Build LSTM model\n",
        "model = Sequential()\n",
        "model.add(LSTM(50, input_shape=(look_back, 1)))\n",
        "model.add(Dense(1))\n",
        "model.compile(loss='mean_squared_error', optimizer='adam')\n",
        "model.fit(X, y, epochs=100, batch_size=32, verbose=2)"
      ]
    },
    {
      "cell_type": "code",
      "execution_count": null,
      "metadata": {
        "id": "0JI8go3YKAmB"
      },
      "outputs": [],
      "source": []
    }
  ],
  "metadata": {
    "colab": {
      "provenance": []
    },
    "kernelspec": {
      "display_name": "venv",
      "language": "python",
      "name": "python3"
    },
    "language_info": {
      "codemirror_mode": {
        "name": "ipython",
        "version": 3
      },
      "file_extension": ".py",
      "mimetype": "text/x-python",
      "name": "python",
      "nbconvert_exporter": "python",
      "pygments_lexer": "ipython3",
      "version": "3.12.4"
    }
  },
  "nbformat": 4,
  "nbformat_minor": 0
}
